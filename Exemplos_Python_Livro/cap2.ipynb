{
 "cells": [
  {
   "attachments": {},
   "cell_type": "markdown",
   "metadata": {},
   "source": [
    "## Estudando Python (Mirian g.) cap 2 livro 150 ex py\n",
    "cp 2  estruturas de decição (if Statements)"
   ]
  },
  {
   "attachments": {},
   "cell_type": "markdown",
   "metadata": {},
   "source": [
    "##### Exemplo:\n",
    "Ex if else \n",
    "\n",
    "![](img\\image_ex_if_else.png)"
   ]
  },
  {
   "cell_type": "code",
   "execution_count": 56,
   "metadata": {},
   "outputs": [
    {
     "name": "stdout",
     "output_type": "stream",
     "text": [
      " Numero 7 é menor que 10.\n",
      "The end\n"
     ]
    }
   ],
   "source": [
    "# exemplo\n",
    "#criando numero aleatorio de (0 a 20)\n",
    "from random import randint\n",
    "numero_aleatorio = randint(0,20)\n",
    "\n",
    "# selecionando o numero e verificando se ele é maior q 10:\n",
    "if numero_aleatorio >10:\n",
    "    print(f' Numero {numero_aleatorio} é maior que 10.')\n",
    "\n",
    "elif numero_aleatorio ==10:\n",
    "        print(f' Numero {numero_aleatorio} é igual a 10.')\n",
    "else:\n",
    "        print(f' Numero {numero_aleatorio} é menor que 10.')    \n",
    "print('The end')"
   ]
  },
  {
   "cell_type": "code",
   "execution_count": 67,
   "metadata": {},
   "outputs": [
    {
     "name": "stdout",
     "output_type": "stream",
     "text": [
      "10 -> 10\n",
      "fim\n"
     ]
    }
   ],
   "source": [
    "# ex 012\n",
    "n1 = int(input(' Digite um numero de 0 a 50 '))\n",
    "n2 = int(input(' Digite um numero de 0 a 50 '))\n",
    "if  n1 <= n2:\n",
    "    print(f'{n1} -> {n2}')\n",
    "elif n2<= n1:\n",
    "    print(f'{n2} -> {n1}')\n",
    "print('fim')\n"
   ]
  },
  {
   "cell_type": "code",
   "execution_count": 74,
   "metadata": {},
   "outputs": [
    {
     "name": "stdout",
     "output_type": "stream",
     "text": [
      " É menor que 20 ? refaça  que eu to me irritando ja \n"
     ]
    }
   ],
   "source": [
    "# ex 013\n",
    "#Ex 013: Peça ao usuario para entrar com um numero menor que 20. Se entrar com um numero 20 ou maior, mostre a mensagem \"Muito grande\", senao mostre \"Obrigada\".\n",
    "\n",
    "nun = int(input(' Entre com um numero menor que 20 '))\n",
    "if nun >20:\n",
    "    print(' Não sabe ler é menor que 20 otario ')\n",
    "elif nun == 20:\n",
    "    print(\" É menor que 20 ? refaça que eu to me irritando ja \")\n",
    "else:\n",
    "    nun <20\n",
    "    print(\"Aprendeu miseravi \")\n"
   ]
  },
  {
   "cell_type": "code",
   "execution_count": 114,
   "metadata": {},
   "outputs": [
    {
     "name": "stdout",
     "output_type": "stream",
     "text": [
      " Incorreto\n"
     ]
    }
   ],
   "source": [
    "# ex 014\n",
    "# Ex 014: Peça ao usuario para entrar com um numero entre 10 e 20 (inclusive). Se entrar com um numero dentro desse intervalo mostra a mensagem \"Obrigada\", senão mostre \"Resposta inorreta\".\n",
    "\n",
    "num = int(input(' Digite um valor entre 10 e 20 '))\n",
    "if num > 20:\n",
    "    print('Incorreto')\n",
    "elif num >= 10 and num <= 20:\n",
    "    print(' Obrigado')\n",
    "else:\n",
    "    print(' Incorreto')\n",
    "\n"
   ]
  },
  {
   "cell_type": "code",
   "execution_count": 46,
   "metadata": {},
   "outputs": [
    {
     "name": "stdout",
     "output_type": "stream",
     "text": [
      "eu nao gosto sim prefiro verde \n"
     ]
    }
   ],
   "source": [
    "# ex 015\n",
    "#  Ex 015: Peça ao usuário para entrar com sua cor favorita. Se ele colocar \"vermelho\", \"VERMELHO\" ou \"Vermelho\" mostra a mensagem:\n",
    "# \"Eu gosto de vermelho tambem!\". Senão escreva: \"Eu nao gosto de [cor], eu prefiro vermelho.\"\n",
    "\n",
    "cor = str(input(' Digite a sua cor favorita ')).lower()\n",
    "if cor == ('verde'):\n",
    "    print(f'Eu gosto de {cor} tambem ')\n",
    "else:\n",
    "    print(f'eu nao gosto {cor} prefiro verde ')\n"
   ]
  },
  {
   "cell_type": "code",
   "execution_count": 80,
   "metadata": {},
   "outputs": [
    {
     "name": "stdout",
     "output_type": "stream",
     "text": [
      " Aproveite seu dia \n"
     ]
    }
   ],
   "source": [
    "# Ex 016\n",
    "#Ex 016: Pergunte ao usuário se esta chovendo e converta a resposta para lower case, não importando qual case ele entrar com a resposta. Se a resposta for sim, pergunte se está ventando, se a resposta for sim tambem mostre a mensagem \"Está ventando demais para usar um guarda-chuva\", senão \"Leve um guarda-chuva\". Se o usuário respondeu sim na primeira pergunta mostre a mensagem: \"Aproveite seu dia.\"\n",
    "\n",
    "tempo = input('Esta chovendo ?').lower()\n",
    "if tempo == ('nao'):\n",
    "    print(' Aproveite seu dia ')\n",
    "else:\n",
    "    vento = input(' Esta ventando ?').lower()\n",
    "    if vento == ('sim'):\n",
    "        print('Está ventando demais para usar um guarda-chuva')\n",
    "    else:\n",
    "        print('Leve um guardachuvas!')\n",
    "    \n",
    " "
   ]
  },
  {
   "cell_type": "code",
   "execution_count": 139,
   "metadata": {},
   "outputs": [
    {
     "name": "stdout",
     "output_type": "stream",
     "text": [
      "Voçê pode brincar de verdade ou desafio \n"
     ]
    }
   ],
   "source": [
    "# Ex 017\n",
    "# -Ex 017: Pergunte ao usuario sua idade, se for maior que 18 anos, mostra a mensagem \"Voce pode votar.\", se a resposta for 17 mostre a mensagem, \"Voce pode aprender a dirigir.\", se for 16 mostre a mensagem \"Voce pode comprar um bilhete da loteria\", se for menor que 16 mostre a mensagem \"Voce pode pode jogar Verdade ou Desafio\"\n",
    "\n",
    "idade = int(input('Informe a sua idade ?'))\n",
    "if idade >=18:\n",
    "    print('Voçê pode votar !')\n",
    "elif idade ==17:\n",
    "    print('Voçê pode aprender a dirigir :)')\n",
    "elif idade ==16:\n",
    "        print('Voçê pode comprar um bilhete da loteria ')\n",
    "elif idade <=15:\n",
    "        print('Voçê pode brincar de verdade ou desafio ')\n"
   ]
  },
  {
   "cell_type": "code",
   "execution_count": 224,
   "metadata": {},
   "outputs": [
    {
     "name": "stdout",
     "output_type": "stream",
     "text": [
      "O 9 é muito pequeno\n"
     ]
    }
   ],
   "source": [
    "# Ex 018\n",
    "# Ex 018: Peça ao usuário para entrar com um numero. Se for menos que 10 mostra a mensagem \"Muito pequeno\", se for entre 10 e 20 mostre a mensagem \"Correto\", senao mostre a mensagem \"Muito grande\n",
    "\n",
    "numero =int(input('Digite um numero'))\n",
    "if numero <=9:\n",
    "    print(f'O {numero} é muito pequeno')\n",
    "elif numero > 20:\n",
    "    print(f'O {numero} é Muito grande')\n",
    "elif numero >= 10 or numero <= 20: #(roda com and ou or )\n",
    "    print(f'O {numero} está correto')\n",
    "   "
   ]
  },
  {
   "cell_type": "code",
   "execution_count": 247,
   "metadata": {},
   "outputs": [
    {
     "name": "stdout",
     "output_type": "stream",
     "text": [
      "5 Menssagem errada\n"
     ]
    }
   ],
   "source": [
    "# Ex 019\n",
    "# Ex 019: Peça ao usuário para digitar 1, 2 ou 3. Se digitar 1, escreva \"Obrigada\", se entrar 2 escreva \"Muito bem\", se entrar com 3 digite \"Correto\". Se digitar qualquer outra coisa mostre a mensagem \"Mensagem errada\".\n",
    "\n",
    "n = int(input('Digite 1, 2 ou  3 '))\n",
    "if n == 1:\n",
    "    print('Obrigado')\n",
    "elif n==2:\n",
    "    print('Muito bem')\n",
    "elif n == 3:\n",
    "    print('Correto')\n",
    "elif n:\n",
    "    print(f'{n} Menssagem errada')"
   ]
  },
  {
   "cell_type": "code",
   "execution_count": null,
   "metadata": {},
   "outputs": [],
   "source": []
  }
 ],
 "metadata": {
  "kernelspec": {
   "display_name": "Python 3",
   "language": "python",
   "name": "python3"
  },
  "language_info": {
   "codemirror_mode": {
    "name": "ipython",
    "version": 3
   },
   "file_extension": ".py",
   "mimetype": "text/x-python",
   "name": "python",
   "nbconvert_exporter": "python",
   "pygments_lexer": "ipython3",
   "version": "3.11.3"
  },
  "orig_nbformat": 4
 },
 "nbformat": 4,
 "nbformat_minor": 2
}
