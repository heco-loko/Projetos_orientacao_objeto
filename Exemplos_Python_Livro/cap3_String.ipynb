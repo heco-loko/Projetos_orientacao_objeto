{
 "cells": [
  {
   "attachments": {},
   "cell_type": "markdown",
   "metadata": {},
   "source": [
    "# Capítulo 3 - Strings"
   ]
  },
  {
   "attachments": {},
   "cell_type": "markdown",
   "metadata": {},
   "source": [
    "Explicação: \n",
    "\n",
    "String é o nome técnico para texto."
   ]
  },
  {
   "cell_type": "code",
   "execution_count": 1,
   "metadata": {},
   "outputs": [
    {
     "name": "stdout",
     "output_type": "stream",
     "text": [
      "10101010101010101010\n"
     ]
    }
   ],
   "source": [
    "num = str(10)\n",
    "print(num*10)"
   ]
  },
  {
   "cell_type": "code",
   "execution_count": 2,
   "metadata": {},
   "outputs": [
    {
     "name": "stdout",
     "output_type": "stream",
     "text": [
      "Vamos fazer um teste,      para avaliar se a forma do texo      permanece a mesmaque a digitada       quando usamos aspas triplas\n"
     ]
    }
   ],
   "source": [
    "print(\"Vamos fazer um teste,\\\n",
    "      para avaliar se a forma do texo\\\n",
    "      permanece a mesmaque a digitada \\\n",
    "      quando usamos aspas triplas\")\n"
   ]
  },
  {
   "cell_type": "code",
   "execution_count": 3,
   "metadata": {},
   "outputs": [
    {
     "name": "stdout",
     "output_type": "stream",
     "text": [
      "      \n",
      "      Vamos fazer um teste,\n",
      "      para avaliar se a forma do texo\n",
      "      permanece a mesmaque a digitada\n",
      "      quando usamos aspas triplas\n"
     ]
    }
   ],
   "source": [
    "print(\"\"\"      \n",
    "      Vamos fazer um teste,\n",
    "      para avaliar se a forma do texo\n",
    "      permanece a mesmaque a digitada\n",
    "      quando usamos aspas triplas\"\"\")"
   ]
  },
  {
   "attachments": {},
   "cell_type": "markdown",
   "metadata": {},
   "source": [
    "## Testes"
   ]
  },
  {
   "cell_type": "code",
   "execution_count": 4,
   "metadata": {},
   "outputs": [],
   "source": [
    "palavra = 'carvalho é uma árvore'"
   ]
  },
  {
   "cell_type": "code",
   "execution_count": 5,
   "metadata": {},
   "outputs": [
    {
     "data": {
      "text/plain": [
       "21"
      ]
     },
     "execution_count": 5,
     "metadata": {},
     "output_type": "execute_result"
    }
   ],
   "source": [
    "#Descobrindo o tamanho da string\n",
    "len(palavra)"
   ]
  },
  {
   "cell_type": "code",
   "execution_count": 6,
   "metadata": {},
   "outputs": [
    {
     "data": {
      "text/plain": [
       "'CARVALHO É UMA ÁRVORE'"
      ]
     },
     "execution_count": 6,
     "metadata": {},
     "output_type": "execute_result"
    }
   ],
   "source": [
    "#Deixando a palavra em UPPER CASE\n",
    "palavra.upper()"
   ]
  },
  {
   "cell_type": "code",
   "execution_count": 7,
   "metadata": {},
   "outputs": [
    {
     "data": {
      "text/plain": [
       "'Carvalho é uma árvore'"
      ]
     },
     "execution_count": 7,
     "metadata": {},
     "output_type": "execute_result"
    }
   ],
   "source": [
    "#Deixa a primeira letra do texto com letra maiúscula e o resto minúsculo.\n",
    "palavra.capitalize()"
   ]
  },
  {
   "cell_type": "code",
   "execution_count": 8,
   "metadata": {},
   "outputs": [
    {
     "data": {
      "text/plain": [
       "'carvalho é uma árvore'"
      ]
     },
     "execution_count": 8,
     "metadata": {},
     "output_type": "execute_result"
    }
   ],
   "source": [
    "#Deixa o texto todo minusculo\n",
    "palavra.lower()"
   ]
  },
  {
   "cell_type": "code",
   "execution_count": 9,
   "metadata": {},
   "outputs": [
    {
     "data": {
      "text/plain": [
       "'Carvalho É Uma Árvore'"
      ]
     },
     "execution_count": 9,
     "metadata": {},
     "output_type": "execute_result"
    }
   ],
   "source": [
    "#Deixando todas as primeiras letras da frase em maiúsculo\n",
    "palavra.title()"
   ]
  },
  {
   "cell_type": "code",
   "execution_count": 10,
   "metadata": {},
   "outputs": [
    {
     "name": "stdout",
     "output_type": "stream",
     "text": [
      "mirianguerra\n"
     ]
    }
   ],
   "source": [
    "primeiro_nome = 'mirian'\n",
    "sobrenome = 'guerra'\n",
    "nome = primeiro_nome+sobrenome\n",
    "print(nome)"
   ]
  },
  {
   "cell_type": "code",
   "execution_count": 11,
   "metadata": {},
   "outputs": [
    {
     "name": "stdout",
     "output_type": "stream",
     "text": [
      "Esse é um texto com espaço\n"
     ]
    }
   ],
   "source": [
    "#Removendo caracteres extras (espaço) do começo e do fim da string\n",
    "texto = ' Esse é um texto com espaço '\n",
    "print(texto.strip())"
   ]
  },
  {
   "cell_type": "code",
   "execution_count": 12,
   "metadata": {},
   "outputs": [
    {
     "name": "stdout",
     "output_type": "stream",
     "text": [
      "a mun\n",
      "ola\n",
      "mundo!\n",
      "ola mundo!\n",
      "ola maravilhoso\n"
     ]
    }
   ],
   "source": [
    "#Slicing\n",
    "print(\"ola mundo!\"[2:7])\n",
    "print(\"ola mundo!\"[:3])\n",
    "print(\"ola mundo!\"[4:])\n",
    "print(\"ola mundo!\"[:])\n",
    "primeira_parte = \"ola mundo maravilhoso\"[:4]\n",
    "segunda_parte = \"ola mundo maravilhoso\"[10:]\n",
    "print(primeira_parte+segunda_parte)\n"
   ]
  },
  {
   "cell_type": "code",
   "execution_count": 13,
   "metadata": {},
   "outputs": [
    {
     "name": "stdout",
     "output_type": "stream",
     "text": [
      "ola maravilhoso\n"
     ]
    }
   ],
   "source": [
    "texto = \"ola mundo maravilhoso\"\n",
    "print(texto.split('mundo')[0]+texto.split('mundo')[1].strip())\n"
   ]
  },
  {
   "cell_type": "code",
   "execution_count": 14,
   "metadata": {},
   "outputs": [
    {
     "name": "stdout",
     "output_type": "stream",
     "text": [
      "Mirian Guerra\n"
     ]
    }
   ],
   "source": [
    "nome = 'mirian elisa rodrigues guerra'\n",
    "lista_nome = nome.split(' ')\n",
    "resultado = lista_nome[0].capitalize() +' '+ lista_nome[len(lista_nome)-1].capitalize()\n",
    "print(resultado)"
   ]
  },
  {
   "attachments": {},
   "cell_type": "markdown",
   "metadata": {},
   "source": [
    "## Exercícios:"
   ]
  },
  {
   "cell_type": "code",
   "execution_count": 15,
   "metadata": {},
   "outputs": [],
   "source": [
    "def pergunta_str(palavra_para_perguntar):\n",
    "    return input(f\"Digite seu/sua {palavra_para_perguntar}: \")"
   ]
  },
  {
   "attachments": {},
   "cell_type": "markdown",
   "metadata": {},
   "source": [
    "020. Peça ao usuário para entrar com seu primeiro nome e então mostre o tamanho do seu nome."
   ]
  },
  {
   "cell_type": "code",
   "execution_count": 18,
   "metadata": {},
   "outputs": [
    {
     "name": "stdout",
     "output_type": "stream",
     "text": [
      "O tamanho do seu nome é 6.\n"
     ]
    }
   ],
   "source": [
    "nome = pergunta_str('nome')\n",
    "print(f'O tamanho do seu nome é {len(nome)}.')"
   ]
  },
  {
   "attachments": {},
   "cell_type": "markdown",
   "metadata": {},
   "source": [
    "021. Peça ao usuário entrar com seu primeiro nome e então peça para entrar com seu sobrenome. Junte o nome e o sobrenome com um espaço entre eles e mostre o nome completo e seu comprimento."
   ]
  },
  {
   "cell_type": "code",
   "execution_count": 21,
   "metadata": {},
   "outputs": [
    {
     "name": "stdout",
     "output_type": "stream",
     "text": [
      "Mirian Guerra\n"
     ]
    }
   ],
   "source": [
    "primeiro_nome = pergunta_str('primeiro nome').strip().capitalize()\n",
    "sobrenome = pergunta_str('sobrenome').strip().capitalize()\n",
    "print(primeiro_nome +' '+sobrenome)"
   ]
  },
  {
   "attachments": {},
   "cell_type": "markdown",
   "metadata": {},
   "source": [
    "022. Peça ao usuário para entrar com seu nome e depois seu sobrenome em lower case (minúsculo). Mude para title case e una os nomes. Mostre o resultado."
   ]
  },
  {
   "cell_type": "code",
   "execution_count": 22,
   "metadata": {},
   "outputs": [
    {
     "name": "stdout",
     "output_type": "stream",
     "text": [
      "Mirian Guerra\n"
     ]
    }
   ],
   "source": [
    "primeiro_nome = pergunta_str('primeiro nome, em minusculo')\n",
    "sobrenome = pergunta_str('sobrenome, em minusculo')\n",
    "nome_completo = (primeiro_nome+' '+sobrenome).title()\n",
    "print(nome_completo)"
   ]
  },
  {
   "attachments": {},
   "cell_type": "markdown",
   "metadata": {},
   "source": [
    "023. Peça ao usuário para digitar o primeiro linha de uma canção de ninar e exiba o comprimento da string. Peça um número inicial e um número final e, em seguida, exiba apenas essa parte do texto. (lembre-se que o Python começa contando a partir de 0 e não 1)."
   ]
  },
  {
   "cell_type": "code",
   "execution_count": 24,
   "metadata": {},
   "outputs": [
    {
     "name": "stdout",
     "output_type": "stream",
     "text": [
      "O tamanho do texto é 27.\n",
      "ha. \n"
     ]
    }
   ],
   "source": [
    "texto = pergunta_str('primeiro linha de uma canão de ninar')\n",
    "print(f'O tamanho do texto é {len(texto)}.')\n",
    "numeros = pergunta_str('dois numeros')\n",
    "num1 = int(numeros.split()[0])\n",
    "num2 = int(numeros.split()[1])\n",
    "print(texto[num1:num2])"
   ]
  },
  {
   "attachments": {},
   "cell_type": "markdown",
   "metadata": {},
   "source": [
    "024. Peça ao usuário para digitar qualquer palavra e a exiba em letras maiúsculas (upper case)."
   ]
  },
  {
   "cell_type": "code",
   "execution_count": 25,
   "metadata": {},
   "outputs": [
    {
     "name": "stdout",
     "output_type": "stream",
     "text": [
      "VACA\n"
     ]
    }
   ],
   "source": [
    "texto = pergunta_str('palavra de preferencia')\n",
    "print(texto.upper())\n"
   ]
  },
  {
   "attachments": {},
   "cell_type": "markdown",
   "metadata": {},
   "source": [
    "025. Peça ao usuário para inserir seu primeiro nome. Se o comprimento do primeiro nome tiver menos de cinco caracteres, peça para que insira seus sobrenome, e os junte (sem espaço), exibindo o nome em caixa alta. Se o comprimento do primeiro nome for cinco ou mais caracteres, exiba seu primeiro nome em letras minúsculas."
   ]
  },
  {
   "cell_type": "code",
   "execution_count": 28,
   "metadata": {},
   "outputs": [
    {
     "name": "stdout",
     "output_type": "stream",
     "text": [
      "Raul Guerra\n"
     ]
    }
   ],
   "source": [
    "primeiro_nome = pergunta_str('primeiro nome').strip().capitalize()\n",
    "if len(primeiro_nome) <5:\n",
    "    sobrenome = pergunta_str('sobrenome').strip().capitalize()\n",
    "    print(primeiro_nome +' '+sobrenome)\n",
    "else:\n",
    "    print(primeiro_nome.upper())"
   ]
  },
  {
   "attachments": {},
   "cell_type": "markdown",
   "metadata": {},
   "source": [
    "026. Pig Latin toma a primeira consoante de uma palavra, move-o para o final da palavra e adiciona um “ay”. Se uma palavra começa com uma vogal, basta adicionar\n",
    "\"way\" ao fim da palavra. \n",
    "Por exemplo, pig se torna igpay, banana torna-se ananabay e aadvark torna-se aadvarkway. \n",
    "Crie um programa que pergunte ao usuário para inserir uma palavra e alterá-la para Pig Latin. Certifique-se de que a nova palavra seja exibida em letras minúsculas."
   ]
  },
  {
   "cell_type": "code",
   "execution_count": 31,
   "metadata": {},
   "outputs": [
    {
     "name": "stdout",
     "output_type": "stream",
     "text": [
      "amor --> amorway\n"
     ]
    }
   ],
   "source": [
    "vogais = ['a','e','i','o','u']\n",
    "palavra = pergunta_str('palavra de preferencia').lower()\n",
    "if palavra[:1] in vogais:\n",
    "    print(f'{palavra} --> {palavra}way')\n",
    "else:\n",
    "    print(f'{palavra} --> {palavra[1:]}{palavra[:1]}ay')\n"
   ]
  }
 ],
 "metadata": {
  "kernelspec": {
   "display_name": "Python 3",
   "language": "python",
   "name": "python3"
  },
  "language_info": {
   "codemirror_mode": {
    "name": "ipython",
    "version": 3
   },
   "file_extension": ".py",
   "mimetype": "text/x-python",
   "name": "python",
   "nbconvert_exporter": "python",
   "pygments_lexer": "ipython3",
   "version": "3.11.3"
  },
  "orig_nbformat": 4
 },
 "nbformat": 4,
 "nbformat_minor": 2
}
