{
 "cells": [
  {
   "attachments": {},
   "cell_type": "markdown",
   "metadata": {},
   "source": [
    "# Capítulo 3 - Strings"
   ]
  },
  {
   "attachments": {},
   "cell_type": "markdown",
   "metadata": {},
   "source": [
    "Explicação: \n",
    "\n",
    "String é o nome técnico para texto."
   ]
  },
  {
   "cell_type": "code",
   "execution_count": 1,
   "metadata": {},
   "outputs": [
    {
     "name": "stdout",
     "output_type": "stream",
     "text": [
      "10101010101010101010\n"
     ]
    }
   ],
   "source": [
    "num = str(10)\n",
    "print(num*10)"
   ]
  },
  {
   "cell_type": "code",
   "execution_count": 4,
   "metadata": {},
   "outputs": [
    {
     "name": "stdout",
     "output_type": "stream",
     "text": [
      "Vamos fazer um teste,      para avaliar se a forma do texo      permanece a mesmaque a digitada      quando usamos aspas triplas\n"
     ]
    }
   ],
   "source": [
    "print(\"Vamos fazer um teste,\\\n",
    "      para avaliar se a forma do texo\\\n",
    "      permanece a mesmaque a digitada \\\n",
    "      quando usamos aspas triplas\")\n"
   ]
  },
  {
   "cell_type": "code",
   "execution_count": 8,
   "metadata": {},
   "outputs": [
    {
     "name": "stdout",
     "output_type": "stream",
     "text": [
      "      Vamos fazer um teste,\n",
      "      para avaliar se a forma do texo\n",
      "      permanece a mesmaque a digitada\n",
      "      quando usamos aspas triplas\n"
     ]
    }
   ],
   "source": [
    "print(\"\"\"      Vamos fazer um teste,\n",
    "      para avaliar se a forma do texo\n",
    "      permanece a mesmaque a digitada\n",
    "      quando usamos aspas triplas\"\"\")"
   ]
  },
  {
   "attachments": {},
   "cell_type": "markdown",
   "metadata": {},
   "source": [
    "## Testes "
   ]
  },
  {
   "cell_type": "code",
   "execution_count": 15,
   "metadata": {},
   "outputs": [
    {
     "data": {
      "text/plain": [
       "16"
      ]
     },
     "execution_count": 15,
     "metadata": {},
     "output_type": "execute_result"
    }
   ],
   "source": [
    "# descobrindo o tamanho da variavel \n",
    "palavra =\"I dont love you \"\n",
    "len(palavra)"
   ]
  },
  {
   "cell_type": "code",
   "execution_count": 16,
   "metadata": {},
   "outputs": [
    {
     "data": {
      "text/plain": [
       "'I DONT LOVE YOU '"
      ]
     },
     "execution_count": 16,
     "metadata": {},
     "output_type": "execute_result"
    }
   ],
   "source": [
    "# descobrindo .upper()\n",
    "palavra.upper()"
   ]
  },
  {
   "cell_type": "code",
   "execution_count": 17,
   "metadata": {},
   "outputs": [
    {
     "data": {
      "text/plain": [
       "'I dont love you '"
      ]
     },
     "execution_count": 17,
     "metadata": {},
     "output_type": "execute_result"
    }
   ],
   "source": [
    "# descobrindo .captalize()\n",
    "palavra.capitalize()"
   ]
  },
  {
   "cell_type": "code",
   "execution_count": 18,
   "metadata": {},
   "outputs": [
    {
     "data": {
      "text/plain": [
       "'i dont love you '"
      ]
     },
     "execution_count": 18,
     "metadata": {},
     "output_type": "execute_result"
    }
   ],
   "source": [
    "# descobrindo .lower()\n",
    "palavra.lower()"
   ]
  },
  {
   "cell_type": "code",
   "execution_count": 22,
   "metadata": {},
   "outputs": [
    {
     "name": "stdout",
     "output_type": "stream",
     "text": [
      "I Dont Love You \n"
     ]
    }
   ],
   "source": [
    "# descobrindo .tite()\n",
    "palavra = palavra.title()\n",
    "print(palavra)"
   ]
  },
  {
   "cell_type": "code",
   "execution_count": 23,
   "metadata": {},
   "outputs": [
    {
     "name": "stdout",
     "output_type": "stream",
     "text": [
      "Hectorloko\n"
     ]
    }
   ],
   "source": [
    "# descobrindo firtt name + surname\n",
    "nome = 'Hector'\n",
    "sobrenome = 'loko'\n",
    "nome1 = nome + sobrenome\n",
    "print(nome1)\n"
   ]
  },
  {
   "cell_type": "code",
   "execution_count": 29,
   "metadata": {},
   "outputs": [
    {
     "name": "stdout",
     "output_type": "stream",
     "text": [
      "I Dont Love You\n"
     ]
    }
   ],
   "source": [
    "# removendo caracteres extras \n",
    "text = '  I Dont Love You  '\n",
    "print(text.strip())"
   ]
  },
  {
   "cell_type": "code",
   "execution_count": 42,
   "metadata": {},
   "outputs": [
    {
     "name": "stdout",
     "output_type": "stream",
     "text": [
      "I \n",
      "Love You\n"
     ]
    }
   ],
   "source": [
    "# fatiando uma string (slicing)\n",
    "print('I Dont Love You' [:2])\n",
    "print('I Dont Love You' [7:])\n"
   ]
  },
  {
   "cell_type": "code",
   "execution_count": 49,
   "metadata": {},
   "outputs": [
    {
     "name": "stdout",
     "output_type": "stream",
     "text": [
      "mir\n"
     ]
    }
   ],
   "source": [
    "nome2 = input(\"digiete seu nome \")\n",
    "\n",
    "print(nome2 [:3])"
   ]
  },
  {
   "attachments": {},
   "cell_type": "markdown",
   "metadata": {},
   "source": [
    "Exercícios:"
   ]
  },
  {
   "attachments": {},
   "cell_type": "markdown",
   "metadata": {},
   "source": [
    "020. Peça ao usuário para entrar com seu primeiro nome e então mostre o tamanho do seu nome."
   ]
  },
  {
   "attachments": {},
   "cell_type": "markdown",
   "metadata": {},
   "source": [
    "021. Peça ao usuário entrar com seu primeiro nome e então peça para entrar com seu sobrenome. Junte o nome e o sobrenome com um espaço entre eles e mostre o nome completo e seu comprimento."
   ]
  },
  {
   "attachments": {},
   "cell_type": "markdown",
   "metadata": {},
   "source": [
    "022. Peça ao usuário para entrar com seu nome e depois seu sobrenome em lower case (minúsculo). Mude para title case e una os nomes. Mostre o resultado."
   ]
  },
  {
   "attachments": {},
   "cell_type": "markdown",
   "metadata": {},
   "source": [
    "023. Peça ao usuário para digitar o primeiro linha de uma canção de ninar e exiba o comprimento da string. Peça um número inicial e um número final e, em seguida, exiba apenas essa parte do texto. (lembre-se que o Python começa contando a partir de 0 e não 1)."
   ]
  },
  {
   "attachments": {},
   "cell_type": "markdown",
   "metadata": {},
   "source": [
    "024. Peça ao usuário para digitar qualquer palavra e a exiba em letras maiúsculas (upper case)."
   ]
  },
  {
   "attachments": {},
   "cell_type": "markdown",
   "metadata": {},
   "source": [
    "025. Peça ao usuário para inserir seu primeiro nome. Se o comprimento do primeiro nome tiver menos de cinco caracteres, peça para que insira seus sobrenome, e os junte (sem espaço), exibindo o nome em caixa alta. Se o comprimento do primeiro nome for cinco ou mais caracteres, exiba seu primeiro nome em letras minúsculas."
   ]
  },
  {
   "attachments": {},
   "cell_type": "markdown",
   "metadata": {},
   "source": [
    "026. Pig Latin toma a primeira consoante de uma palavra, move-o para o final da palavra e adiciona um “ay”. Se uma palavra começa com uma vogal, basta adicionar\n",
    "“caminho” até o fim. Por exemplo, pig se torna igpay, banana torna-se ananabay e aadvark torna-se aadvarkway. \n",
    "Crie um programa que pergunte ao\n",
    "usuário para inserir uma palavra e alterá-la para Pig Latin. Certifique-se de que a nova palavra seja exibida em letras minúsculas."
   ]
  }
 ],
 "metadata": {
  "kernelspec": {
   "display_name": "Python 3",
   "language": "python",
   "name": "python3"
  },
  "language_info": {
   "codemirror_mode": {
    "name": "ipython",
    "version": 3
   },
   "file_extension": ".py",
   "mimetype": "text/x-python",
   "name": "python",
   "nbconvert_exporter": "python",
   "pygments_lexer": "ipython3",
   "version": "3.11.3"
  },
  "orig_nbformat": 4
 },
 "nbformat": 4,
 "nbformat_minor": 2
}
