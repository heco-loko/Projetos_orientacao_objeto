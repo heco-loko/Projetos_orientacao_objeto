{
 "cells": [
  {
   "attachments": {},
   "cell_type": "markdown",
   "metadata": {},
   "source": [
    "## Estudando Python (Mirian g.) cap 1 livro 150 ex py"
   ]
  },
  {
   "cell_type": "code",
   "execution_count": 1,
   "metadata": {},
   "outputs": [
    {
     "name": "stdout",
     "output_type": "stream",
     "text": [
      "hello\n"
     ]
    }
   ],
   "source": [
    "print(\"hello\")"
   ]
  },
  {
   "cell_type": "code",
   "execution_count": 8,
   "metadata": {},
   "outputs": [
    {
     "name": "stdout",
     "output_type": "stream",
     "text": [
      "2.5\n"
     ]
    }
   ],
   "source": [
    "# Divisão comum \n",
    "print(5/2)"
   ]
  },
  {
   "cell_type": "code",
   "execution_count": 6,
   "metadata": {},
   "outputs": [
    {
     "name": "stdout",
     "output_type": "stream",
     "text": [
      "2\n"
     ]
    }
   ],
   "source": [
    "# Divisão inteira\n",
    "print(5//2)"
   ]
  },
  {
   "cell_type": "code",
   "execution_count": 7,
   "metadata": {},
   "outputs": [
    {
     "name": "stdout",
     "output_type": "stream",
     "text": [
      "1\n"
     ]
    }
   ],
   "source": [
    "# Resto da divisão\n",
    "print(5%2)"
   ]
  },
  {
   "cell_type": "code",
   "execution_count": 9,
   "metadata": {},
   "outputs": [
    {
     "name": "stdout",
     "output_type": "stream",
     "text": [
      "7\n"
     ]
    }
   ],
   "source": [
    "# Soma \n",
    "print(5+2)"
   ]
  },
  {
   "cell_type": "code",
   "execution_count": 11,
   "metadata": {},
   "outputs": [
    {
     "name": "stdout",
     "output_type": "stream",
     "text": [
      "3\n"
     ]
    }
   ],
   "source": [
    "# Subtração \n",
    "print(5-2)"
   ]
  },
  {
   "cell_type": "code",
   "execution_count": 12,
   "metadata": {},
   "outputs": [
    {
     "name": "stdout",
     "output_type": "stream",
     "text": [
      "10\n"
     ]
    }
   ],
   "source": [
    "# Multiplicação \n",
    "print(5*2)"
   ]
  },
  {
   "cell_type": "code",
   "execution_count": 13,
   "metadata": {},
   "outputs": [],
   "source": [
    "# Variaveis \n",
    "num1 = 5 \n",
    "num2 = 2"
   ]
  },
  {
   "cell_type": "code",
   "execution_count": 15,
   "metadata": {},
   "outputs": [
    {
     "name": "stdout",
     "output_type": "stream",
     "text": [
      "helo word\n",
      "helo \n",
      "word\n"
     ]
    }
   ],
   "source": [
    "# Testo\n",
    "print('helo word')\n",
    "print('helo \\n word')"
   ]
  },
  {
   "cell_type": "code",
   "execution_count": 31,
   "metadata": {},
   "outputs": [
    {
     "data": {
      "text/plain": [
       "31"
      ]
     },
     "execution_count": 31,
     "metadata": {},
     "output_type": "execute_result"
    }
   ],
   "source": [
    "# pega o valor do usuario\n",
    "idade = int(input('Digite a sua idade :'))\n",
    "idade"
   ]
  },
  {
   "cell_type": "code",
   "execution_count": 41,
   "metadata": {},
   "outputs": [
    {
     "name": "stdout",
     "output_type": "stream",
     "text": [
      "hello mariane\n",
      "Seja bem vindo \n",
      "esta é uma aula em conjunto (Mirian. g e Hector.a) no intuido de aprender e praticar Python\n"
     ]
    }
   ],
   "source": [
    "# ex 001\n",
    "nome = input('Digite a seu nome :')\n",
    "print(('hello ')+(nome)+('\\nSeja bem vindo \\nesta é uma aula em conjunto (Mirian. g e Hector.a) no intuido de aprender e praticar Python'))\n",
    "\n"
   ]
  },
  {
   "cell_type": "code",
   "execution_count": 45,
   "metadata": {},
   "outputs": [
    {
     "name": "stdout",
     "output_type": "stream",
     "text": [
      "hello mariane  romane  seja bem vindo \n"
     ]
    }
   ],
   "source": [
    "# Ex 002\n",
    "nome = input(' Digite seu nome :')\n",
    "sobrenome = input(' Sigite seu sobre nome :')\n",
    "print(f'hello {nome} {sobrenome} seja bem vindo ')\n"
   ]
  },
  {
   "cell_type": "code",
   "execution_count": 46,
   "metadata": {},
   "outputs": [
    {
     "name": "stdout",
     "output_type": "stream",
     "text": [
      "What do you call a bear with no teeth? \n",
      " A gummy bear!\n"
     ]
    }
   ],
   "source": [
    "# ex 003\n",
    "print('What do you call a bear with no teeth? \\nA gummy bear!')"
   ]
  },
  {
   "cell_type": "code",
   "execution_count": 7,
   "metadata": {},
   "outputs": [
    {
     "name": "stdout",
     "output_type": "stream",
     "text": [
      "a soma de 5.5 + 5.5 é = 11.0\n"
     ]
    }
   ],
   "source": [
    "# wx 004\n",
    "n1 = float(input(' Digite um numero :'))\n",
    "n2 = float(input(' Digite um numero :'))\n",
    "print(f'a soma de {n1} + {n2} é = {n1 + n2}')"
   ]
  },
  {
   "cell_type": "code",
   "execution_count": 55,
   "metadata": {},
   "outputs": [
    {
     "name": "stdout",
     "output_type": "stream",
     "text": [
      "a soma de 5 com 5 multiplicado por 2 é igual = 20\n"
     ]
    }
   ],
   "source": [
    "# ex 005\n",
    "n1 = int(input(' Digite um mumero :'))\n",
    "n2 = int(input(' Digite um mumero :'))\n",
    "n3 = int(input(' Digite um mumero :'))\n",
    "print(f'a soma de {n1} com {n2} multiplicado por {n3} é igual = {(n1 + n2) * n3 }')"
   ]
  },
  {
   "cell_type": "code",
   "execution_count": 59,
   "metadata": {},
   "outputs": [
    {
     "name": "stdout",
     "output_type": "stream",
     "text": [
      "foram comprados 13 fatias de pizza e comeram 7 e  restam 6 fatias \n",
      "se me oferecer talvez eu aceite!!! \n"
     ]
    }
   ],
   "source": [
    "# ex 006\n",
    "comprados = int(input(' Quantos pedaços de pizza foram comprados ? '))\n",
    "comido = int(input(' Quantos peços foram comidos ?'))\n",
    "print(f'foram comprados {comprados} fatias de pizza e comeram {comido} e  restam {comprados - comido} fatias \\nse me oferecer talvez eu aceite!!! ')"
   ]
  },
  {
   "cell_type": "code",
   "execution_count": 61,
   "metadata": {},
   "outputs": [
    {
     "name": "stdout",
     "output_type": "stream",
     "text": [
      "hecttor  no sei proximo aniversario teras 31 anos\n"
     ]
    }
   ],
   "source": [
    "# ex 007\n",
    "nome =input(' Qual a sua nome ?')\n",
    "idade = int(input( 'qual a sua idade ?'))\n",
    "print(f'{nome} no seu proximo aniversario teras {idade + 1} anos')\n"
   ]
  },
  {
   "cell_type": "code",
   "execution_count": 54,
   "metadata": {},
   "outputs": [
    {
     "name": "stdout",
     "output_type": "stream",
     "text": [
      " O Total da conta para cada pessoa é de R$ 90.0 obrigado e voltem sempre :) \n"
     ]
    }
   ],
   "source": [
    "# ex 008\n",
    "pg = float(input(' Qual o total da conta  ?'))\n",
    "pss = int(input(' Quantas quantas pessoas comeram ?'))\n",
    "total = (pg / pss)\n",
    "print(f' O Total da conta para cada pessoa é de R$ {round (total,2)} obrigado e voltem sempre :) ')\n"
   ]
  },
  {
   "cell_type": "code",
   "execution_count": 68,
   "metadata": {},
   "outputs": [
    {
     "name": "stdout",
     "output_type": "stream",
     "text": [
      "D:H:M:S: \n",
      "Dia: 5 \n",
      "Horas: 120 \n",
      "Minutos: 7200 \n",
      "Segundos: 432000\n"
     ]
    }
   ],
   "source": [
    "# ex 009\n",
    "quantidade = int(input(' insira a quantidade em dias '))\n",
    "dia = quantidade\n",
    "horas = int(dia * 24)\n",
    "minutos = int(horas * 60)\n",
    "segundos = int(minutos * 60)\n",
    "print(f'D:H:M:S: \\nDia: {dia} \\nHoras: {horas} \\nMinutos: {minutos} \\nSegundos: {segundos}')"
   ]
  },
  {
   "cell_type": "code",
   "execution_count": 87,
   "metadata": {},
   "outputs": [
    {
     "name": "stdout",
     "output_type": "stream",
     "text": [
      "seu peso em KG  1.0  \n",
      "seu peso em Pounds é 2.204\n"
     ]
    }
   ],
   "source": [
    "# ex 010\n",
    "qtd = float(input(' digite seu peso kg '))\n",
    "pounds =float(2.204)\n",
    "total =float(pounds * qtd)\n",
    "print(f'seu peso em KG  {qtd}  \\nseu peso em Pounds é {total}')"
   ]
  },
  {
   "cell_type": "code",
   "execution_count": null,
   "metadata": {},
   "outputs": [],
   "source": []
  }
 ],
 "metadata": {
  "kernelspec": {
   "display_name": "Python 3",
   "language": "python",
   "name": "python3"
  },
  "language_info": {
   "codemirror_mode": {
    "name": "ipython",
    "version": 3
   },
   "file_extension": ".py",
   "mimetype": "text/x-python",
   "name": "python",
   "nbconvert_exporter": "python",
   "pygments_lexer": "ipython3",
   "version": "3.11.3"
  },
  "orig_nbformat": 4
 },
 "nbformat": 4,
 "nbformat_minor": 2
}
