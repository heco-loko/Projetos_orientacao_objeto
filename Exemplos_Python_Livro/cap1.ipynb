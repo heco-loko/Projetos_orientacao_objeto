{
 "cells": [
  {
   "attachments": {},
   "cell_type": "markdown",
   "metadata": {},
   "source": [
    "## Estudando capítulo 1 do Livro Python By Exemple"
   ]
  },
  {
   "attachments": {},
   "cell_type": "markdown",
   "metadata": {},
   "source": [
    "### Rodando primeiros programas"
   ]
  },
  {
   "cell_type": "code",
   "execution_count": 2,
   "metadata": {},
   "outputs": [],
   "source": [
    "# Chamando as variaveis\n",
    "num1 = 5\n",
    "num2 = 2"
   ]
  },
  {
   "cell_type": "code",
   "execution_count": 3,
   "metadata": {},
   "outputs": [
    {
     "name": "stdout",
     "output_type": "stream",
     "text": [
      "7\n"
     ]
    }
   ],
   "source": [
    "#Soma\n",
    "print(num1+num2)"
   ]
  },
  {
   "cell_type": "code",
   "execution_count": 4,
   "metadata": {},
   "outputs": [
    {
     "name": "stdout",
     "output_type": "stream",
     "text": [
      "3\n"
     ]
    }
   ],
   "source": [
    "#Subtracao\n",
    "print(num1-num2)"
   ]
  },
  {
   "cell_type": "code",
   "execution_count": 5,
   "metadata": {},
   "outputs": [
    {
     "name": "stdout",
     "output_type": "stream",
     "text": [
      "10\n"
     ]
    }
   ],
   "source": [
    "#Multiplicação\n",
    "print(num1*num2)"
   ]
  },
  {
   "cell_type": "code",
   "execution_count": 6,
   "metadata": {},
   "outputs": [
    {
     "name": "stdout",
     "output_type": "stream",
     "text": [
      "2.5\n"
     ]
    }
   ],
   "source": [
    "#Divisao \n",
    "print(num1/num2)"
   ]
  },
  {
   "cell_type": "code",
   "execution_count": 7,
   "metadata": {},
   "outputs": [
    {
     "name": "stdout",
     "output_type": "stream",
     "text": [
      "2\n"
     ]
    }
   ],
   "source": [
    "# Divisao real (devolve somente a parte inteira da divissão)\n",
    "print(num1//num2)"
   ]
  },
  {
   "cell_type": "code",
   "execution_count": 8,
   "metadata": {},
   "outputs": [
    {
     "name": "stdout",
     "output_type": "stream",
     "text": [
      "1\n"
     ]
    }
   ],
   "source": [
    "#Resto da divisão\n",
    "print(num1%num2)"
   ]
  },
  {
   "cell_type": "code",
   "execution_count": 9,
   "metadata": {},
   "outputs": [
    {
     "name": "stdout",
     "output_type": "stream",
     "text": [
      "25\n"
     ]
    }
   ],
   "source": [
    "#Potencia\n",
    "print(num1**num2)"
   ]
  },
  {
   "cell_type": "code",
   "execution_count": 15,
   "metadata": {},
   "outputs": [
    {
     "name": "stdout",
     "output_type": "stream",
     "text": [
      "Hello world\n",
      "Hello \n",
      " world\n"
     ]
    }
   ],
   "source": [
    "## Textos\n",
    "print('Hello world')\n",
    "print('Hello \\n world')"
   ]
  },
  {
   "cell_type": "code",
   "execution_count": 26,
   "metadata": {},
   "outputs": [
    {
     "data": {
      "text/plain": [
       "35"
      ]
     },
     "execution_count": 26,
     "metadata": {},
     "output_type": "execute_result"
    }
   ],
   "source": [
    "# Pegar valor do usuario\n",
    "idade = int(input('Digite sua idade: '))\n",
    "type(idade)"
   ]
  },
  {
   "cell_type": "code",
   "execution_count": 27,
   "metadata": {},
   "outputs": [
    {
     "name": "stdout",
     "output_type": "stream",
     "text": [
      "CPF deve ser salvo como texto, mesmo só contendo números! \n",
      "Pois não se faz operações matemáticas com esse numero!\n"
     ]
    },
    {
     "data": {
      "text/plain": [
       "'34'"
      ]
     },
     "execution_count": 27,
     "metadata": {},
     "output_type": "execute_result"
    }
   ],
   "source": [
    "print('CPF deve ser salvo como texto, mesmo só contendo números! \\nPois não se faz operações matemáticas com esse numero!')\n",
    "cpf = input('Digite seu CPF: ')\n",
    "cpf"
   ]
  },
  {
   "attachments": {},
   "cell_type": "markdown",
   "metadata": {},
   "source": [
    "### Exercicios"
   ]
  },
  {
   "cell_type": "code",
   "execution_count": 1,
   "metadata": {},
   "outputs": [
    {
     "name": "stdout",
     "output_type": "stream",
     "text": [
      "Hello Mirian\n",
      "Seja bem vindo nesta aula!\n"
     ]
    }
   ],
   "source": [
    "#Exercicio 001\n",
    "nome = input(\"Digite seu nome?\")\n",
    "print(f\"Hello {nome}\")\n",
    "print('Seja bem vindo nesta aula!')"
   ]
  },
  {
   "cell_type": "code",
   "execution_count": 2,
   "metadata": {},
   "outputs": [
    {
     "name": "stdout",
     "output_type": "stream",
     "text": [
      "Hello Mirian Guerra\n"
     ]
    }
   ],
   "source": [
    "# Exercicio 002: Pergunte ao usuário seu nome e depois seu sobrenome e escreva a frase Hello Fulano Sicrano.\n",
    "nome = input('Digite seu nome: ')\n",
    "sobrenome = input('Digite seu sobrenome: ')\n",
    "print(f'Hello {nome} {sobrenome}')"
   ]
  },
  {
   "cell_type": "code",
   "execution_count": 32,
   "metadata": {},
   "outputs": [
    {
     "name": "stdout",
     "output_type": "stream",
     "text": [
      "What do you call a bear with no teeth?\n",
      "A gumy bear!\n"
     ]
    }
   ],
   "source": [
    "#Ex. 003: \n",
    "print('What do you call a bear with no teeth?\\nA gumy bear!')\n"
   ]
  },
  {
   "cell_type": "code",
   "execution_count": 4,
   "metadata": {},
   "outputs": [
    {
     "name": "stdout",
     "output_type": "stream",
     "text": [
      "O total é 35.0.\n"
     ]
    }
   ],
   "source": [
    "#Ex 004: \n",
    "num1 = float(input(\"Digite um numero: \"))\n",
    "num2 = float(input(\"Digite outro numero: \"))\n",
    "print(f'O total é {num1+num2}.')"
   ]
  },
  {
   "cell_type": "code",
   "execution_count": 5,
   "metadata": {},
   "outputs": [
    {
     "name": "stdout",
     "output_type": "stream",
     "text": [
      "O total é 49.0.\n"
     ]
    }
   ],
   "source": [
    "#Ex 005: \n",
    "def get_numero():\n",
    "    return float(input(\"Digite um numero: \"))\n",
    "num1 = get_numero()\n",
    "num2 = get_numero()\n",
    "num3 = get_numero()\n",
    "print(f'O total é {(num1+num2)*num3}.')"
   ]
  },
  {
   "cell_type": "code",
   "execution_count": 6,
   "metadata": {},
   "outputs": [
    {
     "name": "stdout",
     "output_type": "stream",
     "text": [
      "Ainda tem 16 pedaços de pizza! \n",
      "Aproveite!\n"
     ]
    }
   ],
   "source": [
    "#Ex. 006:\n",
    "qtd_comprados = int(input(\"Quantos pedaços de pizza foram comprados?\"))\n",
    "qtd_comidos = int(input(\"Quantos pedaços de pizza voce já comeu?\"))\n",
    "print(f\"Ainda tem {qtd_comprados -qtd_comidos} pedaços de pizza! \\nAproveite!\")"
   ]
  },
  {
   "cell_type": "code",
   "execution_count": 9,
   "metadata": {},
   "outputs": [
    {
     "name": "stdout",
     "output_type": "stream",
     "text": [
      "Mirian, no seu proximo aniversário voce irá fazer 35 anos.\n"
     ]
    }
   ],
   "source": [
    "#Ex 007. \n",
    "nome = input('Digite seu nome: ').strip().capitalize()\n",
    "idade = int(input('Digite sua idade: '))\n",
    "print(f'{nome}, no seu proximo aniversário voce irá fazer {idade +1} anos.')"
   ]
  },
  {
   "cell_type": "code",
   "execution_count": 11,
   "metadata": {},
   "outputs": [
    {
     "name": "stdout",
     "output_type": "stream",
     "text": [
      "Cada pessoa deve pagar um total de R$51.01.\n"
     ]
    }
   ],
   "source": [
    "#Ex. 008:\n",
    "valor_conta = float(input('Digite o valor da conta: '))\n",
    "qtd_pessoas = int(input('Quantas pessoas estão jantando?'))\n",
    "print(f'Cada pessoa deve pagar um total de R${round((valor_conta/qtd_pessoas),2)}.')"
   ]
  },
  {
   "cell_type": "code",
   "execution_count": 12,
   "metadata": {},
   "outputs": [
    {
     "name": "stdout",
     "output_type": "stream",
     "text": [
      "A quantidade de horas é 168.\n",
      "A quantidade de minutos é 10080.\n",
      "A quantidade de segundos é 604800.\n"
     ]
    }
   ],
   "source": [
    "#Ex. 009: \n",
    "dias = int(input('Digite a quantidade de dias que voce deseja saber as horas,\\\n",
    "                 minutos e segunudos:'))\n",
    "print(f'A quantidade de horas é {dias*24}.')\n",
    "print(f'A quantidade de minutos é {dias*24*60}.')\n",
    "print(f'A quantidade de segundos é {dias*24*3600}.')\n"
   ]
  },
  {
   "cell_type": "code",
   "execution_count": 15,
   "metadata": {},
   "outputs": [
    {
     "name": "stdout",
     "output_type": "stream",
     "text": [
      "1.0 Kg = 2.204 pounds.\n"
     ]
    }
   ],
   "source": [
    "#Ex. 010: Converter pounds em kg\n",
    "peso = float(input('Entre com um peso em quilos: '))\n",
    "print(f'{peso} Kg = {peso*2.204} pounds.') "
   ]
  },
  {
   "cell_type": "code",
   "execution_count": 20,
   "metadata": {},
   "outputs": [
    {
     "name": "stdout",
     "output_type": "stream",
     "text": [
      "158 é, aproximadamente, 52 vezes maior que 3.\n"
     ]
    }
   ],
   "source": [
    "#Ex. 011: \n",
    "num1 = int(input('Entre com um número maior que 100: '))\n",
    "num2 = int(input('Entre com um número menor que 10: '))\n",
    "print(f'{num1} é, aproximadamente, {num1//num2} vezes maior que {num2}.')\n"
   ]
  }
 ],
 "metadata": {
  "kernelspec": {
   "display_name": "Python 3",
   "language": "python",
   "name": "python3"
  },
  "language_info": {
   "codemirror_mode": {
    "name": "ipython",
    "version": 3
   },
   "file_extension": ".py",
   "mimetype": "text/x-python",
   "name": "python",
   "nbconvert_exporter": "python",
   "pygments_lexer": "ipython3",
   "version": "3.11.3"
  },
  "orig_nbformat": 4
 },
 "nbformat": 4,
 "nbformat_minor": 2
}
