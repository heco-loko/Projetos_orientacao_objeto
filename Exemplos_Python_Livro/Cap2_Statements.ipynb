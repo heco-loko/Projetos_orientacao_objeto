{
 "cells": [
  {
   "attachments": {},
   "cell_type": "markdown",
   "metadata": {},
   "source": [
    "## Cap 2. IF Statements\n",
    "Esse capítulo tem como objetivo estudar as estruturas de decisão."
   ]
  },
  {
   "attachments": {},
   "cell_type": "markdown",
   "metadata": {},
   "source": [
    "##### Exemplo\n",
    "Fluxograma para o código:\n",
    "\n",
    "![](img\\fig1_cap2_fluxograma_if)"
   ]
  },
  {
   "cell_type": "code",
   "execution_count": 11,
   "metadata": {},
   "outputs": [
    {
     "name": "stdout",
     "output_type": "stream",
     "text": [
      " Número 16 é maior que 10.\n",
      "FIM\n"
     ]
    }
   ],
   "source": [
    "#Código\n",
    "\n",
    "#Criar numero aleátorio entre (0 e 20)\n",
    "from random import randint\n",
    "numero_aleatorio = randint(0,20)\n",
    "\n",
    "#Selecionando se o numero é maior que 10:\n",
    "if numero_aleatorio > 10:\n",
    "  print(f' Número {numero_aleatorio} é maior que 10.')\n",
    "    \n",
    "elif numero_aleatorio == 10:\n",
    "  print(f'Número {numero_aleatorio} é igual a 10!')\n",
    "\n",
    "else:\n",
    "  print(f'Número {numero_aleatorio} é menor que 10.')\n",
    "        \n",
    "print('FIM')\n"
   ]
  },
  {
   "attachments": {},
   "cell_type": "markdown",
   "metadata": {},
   "source": [
    "#### Desafios:"
   ]
  },
  {
   "attachments": {},
   "cell_type": "markdown",
   "metadata": {},
   "source": [
    "- Ex 012: Pergunte por dois numeros. Se o primeiro for maior que o segundo, escreva na tela que o segundo numero primeiro e depois o primeiro, caso contario o primeiro numero primeiro e o segundo depois"
   ]
  },
  {
   "cell_type": "code",
   "execution_count": 20,
   "metadata": {},
   "outputs": [
    {
     "name": "stdout",
     "output_type": "stream",
     "text": [
      "Numeros iguais a 10.\n"
     ]
    }
   ],
   "source": [
    "num1 = int(input('Entre com um numero'))\n",
    "num2 = int(input('Entre com outro numero'))\n",
    "\n",
    "if num1>num2:\n",
    "    print(f'{num2} - {num1}.')\n",
    "    \n",
    "elif num1==num2:\n",
    "    print(f'Numeros iguais a {num1}.')\n",
    "    \n",
    "else:\n",
    "    print(f'{num1} - {num2}.')"
   ]
  },
  {
   "attachments": {},
   "cell_type": "markdown",
   "metadata": {},
   "source": [
    "- Ex 013: Peça ao usuario para entrar com um numero menor que 20. Se entrar com um numero 20 ou maior, mostre a mensagem \"Muito grande\", senao mostre \"Obrigada\"."
   ]
  },
  {
   "cell_type": "code",
   "execution_count": 24,
   "metadata": {},
   "outputs": [
    {
     "name": "stdout",
     "output_type": "stream",
     "text": [
      "Presta ateção Arrombado!\n",
      "Número maior que 20!\n"
     ]
    }
   ],
   "source": [
    "num1 = int(input('Usuário querido, entre com um numero menor que 20.'))\n",
    "if num1 >=20:\n",
    "    print('Presta ateção Arrombado!\\nNúmero maior que 20!')\n",
    "else:\n",
    "    print('Muito Obrigada.')"
   ]
  },
  {
   "attachments": {},
   "cell_type": "markdown",
   "metadata": {},
   "source": [
    "- Ex 014: Peça ao usuario para entrar com um numero entre 10 e 20 (inclusive). Se entrar com um numero dentro desse intervalo mostra a mensagem \"Obrigada\", senão mostre \"Resposta incorreta\"."
   ]
  },
  {
   "cell_type": "code",
   "execution_count": 40,
   "metadata": {},
   "outputs": [
    {
     "name": "stdout",
     "output_type": "stream",
     "text": [
      "Obrigada.\n"
     ]
    }
   ],
   "source": [
    "num1 = int(input('Usuário querido, entre com um numero entre 10 e 20.'))\n",
    "\n",
    "if 10 <= num1 <=20:\n",
    "    print(\"Obrigada.\")\n",
    "\n",
    "else:\n",
    "    print(\"Resposta Incorreta.\")"
   ]
  },
  {
   "attachments": {},
   "cell_type": "markdown",
   "metadata": {},
   "source": [
    "- Ex 015: Peça ao usuário para entrar com sua cor favorita. Se ele colocar \"vermelho\", \"VERMELHO\" ou \"Vermelho\" mostra a mensagem: \"Eu gosto de vermelho tambem!\". Senão escreva: \"Eu nao gosto de [cor], eu prefiro vermelho.\""
   ]
  },
  {
   "cell_type": "code",
   "execution_count": 33,
   "metadata": {},
   "outputs": [
    {
     "name": "stdout",
     "output_type": "stream",
     "text": [
      "Eu gosto de vermelho tambem!\n"
     ]
    }
   ],
   "source": [
    "cor_favorita= input('Qual é a sua cor favorita?').lower()\n",
    "\n",
    "if cor_favorita == 'vermelho':\n",
    "    print('Eu gosto de vermelho tambem!')\n",
    "else:\n",
    "    print(f'Eu nao gosto de {cor_favorita}, eu prefiro vermelho.')\n"
   ]
  },
  {
   "attachments": {},
   "cell_type": "markdown",
   "metadata": {},
   "source": [
    "- Ex 016: Pergunte ao usuário se esta chovendo e converta a resposta para lower case, não importando qual case ele entrar com a resposta. Se a resposta for sim, pergunte se está ventando, se a resposta for sim tambem mostre a mensagem \"Está ventando demais para usar um guarda-chuva\", senão \"Leve um guarda-chuva\". Se o usuário respondeu sim na primeira pergunta mostre a mensagem: \"Aproveite seu dia.\""
   ]
  },
  {
   "cell_type": "code",
   "execution_count": 34,
   "metadata": {},
   "outputs": [
    {
     "name": "stdout",
     "output_type": "stream",
     "text": [
      "Aproveite seu dia.\n"
     ]
    }
   ],
   "source": [
    "chuva = input('Está chovendo?').lower()\n",
    "chuva = False\n",
    "vento = False\n",
    "if chuva == 'sim':\n",
    "    chuva == True\n",
    "    vento = input('Está ventando?').lower()\n",
    "    if vento == 'sim':\n",
    "        vento = True\n",
    "\n",
    "if chuva == False:\n",
    "    print('Aproveite seu dia.')\n",
    "elif chuva and vento:\n",
    "    print('Está ventando demais para usar um guarda-chuva')\n",
    "elif chuva == True and vento == False:\n",
    "    print(\"Leve um guarda-chuva\")\n",
    "else:\n",
    "    print('ERRO NA LÓGICA')\n"
   ]
  },
  {
   "attachments": {},
   "cell_type": "markdown",
   "metadata": {},
   "source": [
    "- Ex 017: Pergunte ao usuario sua idade, se for maior que 18 anos, mostra a mensagem \"Voce pode votar.\", se a resposta for 17 mostre a mensagem, \"Voce pode aprender a dirigir.\", se for 16 mostre a mensagem \"Voce pode comprar um bilhete da loteria\", se for menor que 16 mostre a mensagem \"Voce pode pode jogar Verdade ou Desafio\"."
   ]
  },
  {
   "cell_type": "code",
   "execution_count": 42,
   "metadata": {},
   "outputs": [
    {
     "name": "stdout",
     "output_type": "stream",
     "text": [
      "Voce pode jogar Verdade ou desafio!\n"
     ]
    }
   ],
   "source": [
    "idade = int(input('Qual é sua idade?'))\n",
    "\n",
    "if idade >=18:\n",
    "    print('Voce pode votar!')\n",
    "elif idade == 17:\n",
    "    print('Voce ja pode aprender a dirigir!')\n",
    "elif idade == 1:\n",
    "    print('Voce ja pode comprar um bilhete da loteria!')\n",
    "elif idade <= 16:\n",
    "    print('Voce pode jogar Verdade ou desafio!')\n"
   ]
  },
  {
   "attachments": {},
   "cell_type": "markdown",
   "metadata": {},
   "source": [
    "- Ex 018: Peça ao usuário para entrar com um numero. Se for menos que 10 mostra a mensagem \"Muito pequeno\", se for entre 10 e 20 mostre a mensagem \"Correto\", senao mostre a mensagem \"Muito grande.\""
   ]
  },
  {
   "cell_type": "code",
   "execution_count": 43,
   "metadata": {},
   "outputs": [
    {
     "name": "stdout",
     "output_type": "stream",
     "text": [
      "Muito pequeno!\n"
     ]
    }
   ],
   "source": [
    "numero = int(input('Entre com um numero: '))\n",
    "if numero < 10:\n",
    "    print('Muito pequeno!')\n",
    "elif 10<=numero<=20:\n",
    "    print('Correto')\n",
    "elif numero > 20:\n",
    "    print('Muito grande')"
   ]
  },
  {
   "attachments": {},
   "cell_type": "markdown",
   "metadata": {},
   "source": [
    "- Ex 019: Peça ao usuário para digitar 1, 2 ou 3. Se digitar 1, escreva \"Obrigada\", se entrar 2 escreva \"Muito bem\", se entrar com 3 digite \"Correto\". Se digitar qualquer outra coisa mostre a mensagem \"Mensagem errada\"."
   ]
  },
  {
   "cell_type": "code",
   "execution_count": 46,
   "metadata": {},
   "outputs": [
    {
     "name": "stdout",
     "output_type": "stream",
     "text": [
      "Obrigada!\n"
     ]
    }
   ],
   "source": [
    "numero = int(input('Digite 1, 2 ou 3: '))\n",
    "if numero == 1:\n",
    "    print('Obrigada!')\n",
    "elif numero ==2:\n",
    "    print('Muito bem!')\n",
    "elif numero == 3:\n",
    "    print('Correto!')\n",
    "else:\n",
    "    print('Numero inválido!')\n"
   ]
  }
 ],
 "metadata": {
  "kernelspec": {
   "display_name": "Python 3",
   "language": "python",
   "name": "python3"
  },
  "language_info": {
   "codemirror_mode": {
    "name": "ipython",
    "version": 3
   },
   "file_extension": ".py",
   "mimetype": "text/x-python",
   "name": "python",
   "nbconvert_exporter": "python",
   "pygments_lexer": "ipython3",
   "version": "3.11.3"
  },
  "orig_nbformat": 4
 },
 "nbformat": 4,
 "nbformat_minor": 2
}
